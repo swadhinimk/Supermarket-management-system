{
 "cells": [
  {
   "cell_type": "code",
   "execution_count": null,
   "id": "96ba375a-ab8b-475d-a81f-a30b1b8f239e",
   "metadata": {},
   "outputs": [],
   "source": [
    "pip install mysql-connector-python"
   ]
  },
  {
   "cell_type": "code",
   "execution_count": null,
   "id": "ab159122-5a45-4755-b76f-99fbeb3b9a09",
   "metadata": {},
   "outputs": [],
   "source": [
    "import mysql.connector\n",
    "from mysql.connector import Error\n",
    "\n",
    "def create_connection():\n",
    "    try:\n",
    "        connection = mysql.connector.connect(\n",
    "            host='127.0.0.1',\n",
    "            database='supermarket',\n",
    "            user='root',    # Replace with your MySQL username\n",
    "            password='7402018010@0550' # Replace with your MySQL password\n",
    "        )\n",
    "        if connection.is_connected():\n",
    "            print(\"Connected to MySQL database\")\n",
    "            return connection\n",
    "    except Error as e:\n",
    "        print(\"Error while connecting to MySQL\", e)\n",
    "        return None\n"
   ]
  },
  {
   "cell_type": "code",
   "execution_count": null,
   "id": "54ec2f70-09c2-4c65-a573-e16e6878d7cb",
   "metadata": {},
   "outputs": [
    {
     "name": "stdout",
     "output_type": "stream",
     "text": [
      "Connected to MySQL database\n",
      "Tables created successfully\n",
      "\n",
      "1. Add Item\n",
      "2. Generate Bill\n",
      "3. Display Total Cost\n",
      "4. View Items\n",
      "5. Display Total Purchased Cost\n",
      "6. Exit\n"
     ]
    },
    {
     "name": "stdin",
     "output_type": "stream",
     "text": [
      "Enter your choice:  1\n"
     ]
    },
    {
     "name": "stdout",
     "output_type": "stream",
     "text": [
      "Connected to MySQL database\n"
     ]
    },
    {
     "name": "stdin",
     "output_type": "stream",
     "text": [
      "Enter item name:  curd\n",
      "Enter item category:  diary\n",
      "Enter item price:  50\n",
      "Enter stocks available:  50\n"
     ]
    },
    {
     "name": "stdout",
     "output_type": "stream",
     "text": [
      "Item 'curd' added successfully\n",
      "\n",
      "1. Add Item\n",
      "2. Generate Bill\n",
      "3. Display Total Cost\n",
      "4. View Items\n",
      "5. Display Total Purchased Cost\n",
      "6. Exit\n"
     ]
    },
    {
     "name": "stdin",
     "output_type": "stream",
     "text": [
      "Enter your choice:  2\n"
     ]
    },
    {
     "name": "stdout",
     "output_type": "stream",
     "text": [
      "Connected to MySQL database\n"
     ]
    },
    {
     "name": "stdin",
     "output_type": "stream",
     "text": [
      "Enter customer name:  jenny\n",
      "Enter item number:  2\n",
      "Enter quantity:  6\n",
      "Do you want to add more items? (yes/no):  yes\n",
      "Enter item number:  2\n",
      "Enter quantity:  5\n",
      "Do you want to add more items? (yes/no):  no\n"
     ]
    },
    {
     "name": "stdout",
     "output_type": "stream",
     "text": [
      "Bill generated successfully for jenny. Total price: 13.20\n",
      "\n",
      "1. Add Item\n",
      "2. Generate Bill\n",
      "3. Display Total Cost\n",
      "4. View Items\n",
      "5. Display Total Purchased Cost\n",
      "6. Exit\n"
     ]
    },
    {
     "name": "stdin",
     "output_type": "stream",
     "text": [
      "Enter your choice:  4\n"
     ]
    },
    {
     "name": "stdout",
     "output_type": "stream",
     "text": [
      "Connected to MySQL database\n",
      "Item No    Item Name            Category             Price      Stocks Available\n",
      "1          Apple                Fruits               0.50       92        \n",
      "2          Milk                 Dairy                1.20       34        \n",
      "3          Bread                Bakery               1.50       21        \n",
      "4          Gulob jamun          sweet                35.00      1         \n",
      "5          yoghurt              Dairy                15.00      24        \n",
      "6          popcorn              snacks               25.00      50        \n",
      "7          cucumber             vegetables           15.00      18        \n",
      "8          bananas              Fruits               10.00      20        \n",
      "9          Ice cream            frozen food          30.00      30        \n",
      "10         soda                 Drinks               20.00      56        \n",
      "11         corn                 vegetables           15.00      30        \n",
      "12         baking soda          baking               20.00      45        \n",
      "13         curd                 diary                50.00      50        \n",
      "\n",
      "1. Add Item\n",
      "2. Generate Bill\n",
      "3. Display Total Cost\n",
      "4. View Items\n",
      "5. Display Total Purchased Cost\n",
      "6. Exit\n"
     ]
    },
    {
     "name": "stdin",
     "output_type": "stream",
     "text": [
      "Enter your choice:  5\n"
     ]
    },
    {
     "name": "stdout",
     "output_type": "stream",
     "text": [
      "Connected to MySQL database\n",
      "Total cost of all items purchased: 628.10\n",
      "\n",
      "1. Add Item\n",
      "2. Generate Bill\n",
      "3. Display Total Cost\n",
      "4. View Items\n",
      "5. Display Total Purchased Cost\n",
      "6. Exit\n"
     ]
    },
    {
     "name": "stdin",
     "output_type": "stream",
     "text": [
      "Enter your choice:  3\n"
     ]
    },
    {
     "name": "stdout",
     "output_type": "stream",
     "text": [
      "Connected to MySQL database\n",
      "Item Name            Price      Quantity   Total Cost\n",
      "Apple                0.50       5          2.50      \n",
      "Milk                 1.20       2          2.40      \n",
      "Bread                1.50       1          1.50      \n",
      "Apple                0.50       3          1.50      \n",
      "Bread                1.50       4          6.00      \n",
      "yoghurt              15.00      6          90.00     \n",
      "cucumber             15.00      7          105.00    \n",
      "baking soda          20.00      5          100.00    \n",
      "Ice cream            30.00      10         300.00    \n",
      "Bread                1.50       4          6.00      \n",
      "Milk                 1.20       6          7.20      \n",
      "Milk                 1.20       5          6.00      \n",
      "\n",
      "1. Add Item\n",
      "2. Generate Bill\n",
      "3. Display Total Cost\n",
      "4. View Items\n",
      "5. Display Total Purchased Cost\n",
      "6. Exit\n"
     ]
    },
    {
     "name": "stdin",
     "output_type": "stream",
     "text": [
      "Enter your choice:  2\n"
     ]
    },
    {
     "name": "stdout",
     "output_type": "stream",
     "text": [
      "Connected to MySQL database\n"
     ]
    },
    {
     "name": "stdin",
     "output_type": "stream",
     "text": [
      "Enter customer name:  alice\n",
      "Enter item number:  6\n"
     ]
    }
   ],
   "source": [
    "import mysql.connector\n",
    "from mysql.connector import Error\n",
    "\n",
    "def create_connection():\n",
    "    try:\n",
    "        connection = mysql.connector.connect(\n",
    "            host='127.0.0.1',\n",
    "            user='root',  # Replace with your MySQL username\n",
    "            password='7402018010@0550'  # Replace with your MySQL password\n",
    "        )\n",
    "        if connection.is_connected():\n",
    "            print(\"Connected to MySQL database\")\n",
    "            return connection\n",
    "    except Error as e:\n",
    "        print(\"Error while connecting to MySQL\", e)\n",
    "        return None\n",
    "\n",
    "def initialize_db():\n",
    "    connection = create_connection()\n",
    "    if connection is not None:\n",
    "        try:\n",
    "            cursor = connection.cursor()\n",
    "\n",
    "            # Create the database if it doesn't exist\n",
    "            cursor.execute(\"CREATE DATABASE IF NOT EXISTS supermarket\")\n",
    "\n",
    "            # Use the database\n",
    "            cursor.execute(\"USE supermarket\")\n",
    "\n",
    "            cursor.execute('''\n",
    "            CREATE TABLE IF NOT EXISTS items (\n",
    "                item_no INT AUTO_INCREMENT PRIMARY KEY,\n",
    "                item_name VARCHAR(255) NOT NULL,\n",
    "                category VARCHAR(255) NOT NULL,\n",
    "                price DECIMAL(10, 2) NOT NULL,\n",
    "                stocks_available INT NOT NULL\n",
    "            )\n",
    "            ''')\n",
    "\n",
    "            cursor.execute('''\n",
    "            CREATE TABLE IF NOT EXISTS bills (\n",
    "                bill_id INT AUTO_INCREMENT PRIMARY KEY,\n",
    "                customer_name VARCHAR(255) NOT NULL,\n",
    "                item_no INT,\n",
    "                quantity INT,\n",
    "                total_price DECIMAL(10, 2),\n",
    "                FOREIGN KEY (item_no) REFERENCES items(item_no)\n",
    "            )\n",
    "            ''')\n",
    "\n",
    "            connection.commit()\n",
    "            print(\"Tables created successfully\")\n",
    "        except Error as e:\n",
    "            print(\"Error while creating tables\", e)\n",
    "        finally:\n",
    "            if connection.is_connected():\n",
    "                cursor.close()\n",
    "                connection.close()\n",
    "\n",
    "def add_item():\n",
    "    connection = create_connection()\n",
    "    if connection is not None:\n",
    "        try:\n",
    "            cursor = connection.cursor()\n",
    "            cursor.execute(\"USE supermarket\")\n",
    "            item_name = input(\"Enter item name: \")\n",
    "            category = input(\"Enter item category: \")\n",
    "            price = float(input(\"Enter item price: \"))\n",
    "            stocks_available = int(input(\"Enter stocks available: \"))\n",
    "\n",
    "            cursor.execute('''\n",
    "            INSERT INTO items (item_name, category, price, stocks_available)\n",
    "            VALUES (%s, %s, %s, %s)\n",
    "            ''', (item_name, category, price, stocks_available))\n",
    "            connection.commit()\n",
    "            print(f\"Item '{item_name}' added successfully\")\n",
    "        except Error as e:\n",
    "            print(\"Error while adding item\", e)\n",
    "        finally:\n",
    "            if connection.is_connected():\n",
    "                cursor.close()\n",
    "                connection.close()\n",
    "\n",
    "def generate_bill():\n",
    "    connection = create_connection()\n",
    "    if connection is not None:\n",
    "        try:\n",
    "            cursor = connection.cursor()\n",
    "            cursor.execute(\"USE supermarket\")\n",
    "            customer_name = input(\"Enter customer name: \")\n",
    "            items = []\n",
    "\n",
    "            while True:\n",
    "                item_no = int(input(\"Enter item number: \"))\n",
    "                quantity = int(input(\"Enter quantity: \"))\n",
    "                items.append((item_no, quantity))\n",
    "                more_items = input(\"Do you want to add more items? (yes/no): \")\n",
    "                if more_items.lower() != 'yes':\n",
    "                    break\n",
    "\n",
    "            total_price = 0\n",
    "            for item_no, quantity in items:\n",
    "                cursor.execute(\"SELECT price, stocks_available FROM items WHERE item_no = %s\", (item_no,))\n",
    "                result = cursor.fetchone()\n",
    "                if not result or result[1] < quantity:\n",
    "                    print(f\"Insufficient stock for item number {item_no}\")\n",
    "                    return\n",
    "                price = result[0]\n",
    "                total_price += price * quantity\n",
    "                cursor.execute(\"UPDATE items SET stocks_available = stocks_available - %s WHERE item_no = %s\", (quantity, item_no))\n",
    "\n",
    "            for item_no, quantity in items:\n",
    "                cursor.execute('''\n",
    "                INSERT INTO bills (customer_name, item_no, quantity, total_price)\n",
    "                VALUES (%s, %s, %s, %s)\n",
    "                ''', (customer_name, item_no, quantity, total_price))\n",
    "\n",
    "            connection.commit()\n",
    "            print(f\"Bill generated successfully for {customer_name}. Total price: {total_price}\")\n",
    "        except Error as e:\n",
    "            print(\"Error while generating bill\", e)\n",
    "        finally:\n",
    "            if connection.is_connected():\n",
    "                cursor.close()\n",
    "                connection.close()\n",
    "\n",
    "def display_total_cost():\n",
    "    connection = create_connection()\n",
    "    if connection is not None:\n",
    "        try:\n",
    "            cursor = connection.cursor()\n",
    "            cursor.execute(\"USE supermarket\")\n",
    "            cursor.execute('''\n",
    "            SELECT items.item_name, items.price, bills.quantity, (items.price * bills.quantity) as total_cost\n",
    "            FROM bills\n",
    "            JOIN items ON bills.item_no = items.item_no\n",
    "            ''')\n",
    "            purchases = cursor.fetchall()\n",
    "            print(f\"{'Item Name':<20} {'Price':<10} {'Quantity':<10} {'Total Cost':<10}\")\n",
    "            for purchase in purchases:\n",
    "                print(f\"{purchase[0]:<20} {purchase[1]:<10} {purchase[2]:<10} {purchase[3]:<10}\")\n",
    "        except Error as e:\n",
    "            print(\"Error while fetching purchases\", e)\n",
    "        finally:\n",
    "            if connection.is_connected():\n",
    "                cursor.close()\n",
    "                connection.close()\n",
    "\n",
    "def display_total_purchased_cost():\n",
    "    connection = create_connection()\n",
    "    if connection is not None:\n",
    "        try:\n",
    "            cursor = connection.cursor()\n",
    "            cursor.execute(\"USE supermarket\")\n",
    "            cursor.execute('''\n",
    "            SELECT SUM(items.price * bills.quantity) as total_purchased_cost\n",
    "            FROM bills\n",
    "            JOIN items ON bills.item_no = items.item_no\n",
    "            ''')\n",
    "            total_cost = cursor.fetchone()[0]\n",
    "            print(f\"Total cost of all items purchased: {total_cost}\")\n",
    "        except Error as e:\n",
    "            print(\"Error while fetching total purchased cost\", e)\n",
    "        finally:\n",
    "            if connection.is_connected():\n",
    "                cursor.close()\n",
    "                connection.close()\n",
    "\n",
    "def view_items():\n",
    "    connection = create_connection()\n",
    "    if connection is not None:\n",
    "        try:\n",
    "            cursor = connection.cursor()\n",
    "            cursor.execute(\"USE supermarket\")\n",
    "            cursor.execute('''\n",
    "            SELECT * FROM items\n",
    "            ''')\n",
    "            items = cursor.fetchall()\n",
    "            print(f\"{'Item No':<10} {'Item Name':<20} {'Category':<20} {'Price':<10} {'Stocks Available':<10}\")\n",
    "            for item in items:\n",
    "                print(f\"{item[0]:<10} {item[1]:<20} {item[2]:<20} {item[3]:<10} {item[4]:<10}\")\n",
    "        except Error as e:\n",
    "            print(\"Error while fetching items\", e)\n",
    "        finally:\n",
    "            if connection.is_connected():\n",
    "                cursor.close()\n",
    "                connection.close()\n",
    "\n",
    "def main():\n",
    "    initialize_db()\n",
    "\n",
    "    while True:\n",
    "        print(\"\\n1. Add Item\")\n",
    "        print(\"2. Generate Bill\")\n",
    "        print(\"3. Display Total Cost\")\n",
    "        print(\"4. View Items\")\n",
    "        print(\"5. Display Total Purchased Cost\")\n",
    "        print(\"6. Exit\")\n",
    "        choice = input(\"Enter your choice: \")\n",
    "\n",
    "        if choice == '1':\n",
    "            add_item()\n",
    "        elif choice == '2':\n",
    "            generate_bill()\n",
    "        elif choice == '3':\n",
    "            display_total_cost()\n",
    "        elif choice == '4':\n",
    "            view_items()\n",
    "        elif choice == '5':\n",
    "            display_total_purchased_cost()\n",
    "        elif choice == '6':\n",
    "            break\n",
    "        else:\n",
    "            print(\"Invalid choice. Please try again.\")\n",
    "\n",
    "if __name__ == \"__main__\":\n",
    "    main()\n"
   ]
  },
  {
   "cell_type": "code",
   "execution_count": null,
   "id": "6c3496bc-98cf-45af-969a-c6ad7da15751",
   "metadata": {},
   "outputs": [],
   "source": []
  },
  {
   "cell_type": "code",
   "execution_count": null,
   "id": "69bc738a-f019-432b-9607-92aab8cd3914",
   "metadata": {},
   "outputs": [],
   "source": []
  }
 ],
 "metadata": {
  "kernelspec": {
   "display_name": "Python 3 (ipykernel)",
   "language": "python",
   "name": "python3"
  },
  "language_info": {
   "codemirror_mode": {
    "name": "ipython",
    "version": 3
   },
   "file_extension": ".py",
   "mimetype": "text/x-python",
   "name": "python",
   "nbconvert_exporter": "python",
   "pygments_lexer": "ipython3",
   "version": "3.11.7"
  }
 },
 "nbformat": 4,
 "nbformat_minor": 5
}
